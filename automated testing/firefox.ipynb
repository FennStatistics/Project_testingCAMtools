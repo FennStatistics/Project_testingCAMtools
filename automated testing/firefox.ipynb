{
 "cells": [
  {
   "cell_type": "code",
   "execution_count": 3,
   "metadata": {},
   "outputs": [],
   "source": [
    "from selenium import webdriver \n",
    "#from selenium.webdriver.firefox.options import Options\n",
    "from selenium.webdriver.common.by import By\n",
    "#from selenium.webdriver.common.keys import Keys\n",
    "#from selenium.webdriver.chrome.service import Service\n",
    "from selenium.webdriver.firefox.service import Service as FirefoxService\n",
    "#from webdriver_manager.firefox import GeckoDriverManager\n",
    "from selenium.webdriver.common.action_chains import ActionChains\n",
    "\n",
    "\n",
    "\n",
    "from time import sleep"
   ]
  },
  {
   "cell_type": "code",
   "execution_count": 4,
   "metadata": {},
   "outputs": [
    {
     "name": "stderr",
     "output_type": "stream",
     "text": [
      "C:\\Users\\fenn\\AppData\\Local\\Temp\\ipykernel_17928\\3067021079.py:16: DeprecationWarning: find_element_by_* commands are deprecated. Please use find_element() instead\n",
      "  div_element = driver.find_element_by_id('CAMSVG')\n"
     ]
    },
    {
     "name": "stdout",
     "output_type": "stream",
     "text": [
      "Counter: 0\n",
      "Counter: 1\n",
      "Counter: 2\n",
      "{'CAM': 4, 'href': 'https://camgalaxy.github.io/'}\n",
      "4\n"
     ]
    }
   ],
   "source": [
    "# initalize the web driver\n",
    "driver = webdriver.Firefox()\n",
    "# Open the webpage\n",
    "driver.get('https://camgalaxy.github.io/')\n",
    "\n",
    "sleep(3)\n",
    "\n",
    "\n",
    "js = 'console.log(\"123\");'\n",
    "driver.execute_script(js)\n",
    "\n",
    "sleep(3)\n",
    "\n",
    "# Locate the div by its ID or another selector\n",
    "# Replace 'your_div_id_here' with the actual ID or adjust the selector as needed\n",
    "div_element = driver.find_element_by_id('CAMSVG')\n",
    "\n",
    "# List of coordinates (x, y) where you want to click within the div\n",
    "# Replace or extend this list with your desired coordinates\n",
    "coordinates = [(100, 100), (400, 100), (700, 100)]\n",
    "text_concepts = ['A', 'B', 'C']\n",
    "text_comment = ['A11', 'B22', 'C33']\n",
    "\n",
    "offset_x = 0\n",
    "offset_y = -20  # No vertical offset # -2,, 50 = ambivalent\n",
    "\n",
    "# Create an instance of ActionChains\n",
    "actions = ActionChains(driver)\n",
    "\n",
    "# Loop through the coordinates, moving to each and clicking\n",
    "for counter, (x, y) in enumerate(coordinates):\n",
    "    # Move to our div_element, then move to the specific offset and click\n",
    "    actions.move_to_element_with_offset(div_element, x, y).click().perform()\n",
    "\n",
    "    actions.move_to_element_with_offset(div_element, x, y).double_click().perform()\n",
    "    input_field_text = driver.find_element(By.ID, 'inptextnode')\n",
    "    input_field_text.send_keys(text_concepts[counter])\n",
    "\n",
    "    \n",
    "    #input_field_valence = driver.find_element(By.ID, 'nodeSlider')\n",
    "    #input_field_valence = driver.find_element(By.XPATH, '//span[text()=\"-2\"]')\n",
    "    input_field_valence = driver.find_element(By.XPATH, \"//div[contains(@class, 'labelsNodeSlider')]//span[text()='3']\")\n",
    "\n",
    "    actions.move_to_element_with_offset(input_field_valence, offset_x, offset_y).click().perform()\n",
    "\n",
    "    input_field_comment = driver.find_element(By.ID, 'inpcommentnode')\n",
    "    input_field_comment.send_keys(text_comment[counter])\n",
    "\n",
    "\n",
    "\n",
    "    # Print the counter value\n",
    "    print(\"Counter:\", counter)\n",
    "\n",
    "    # Reset actions (important if you're performing multiple actions in a loop)\n",
    "    actions = ActionChains(driver)\n",
    "\n",
    "\n",
    "actions.move_to_element_with_offset(div_element, 0, 0).click().perform()\n",
    "\n",
    "actions.move_to_element_with_offset(div_element, 100, 100).click().perform()\n",
    "actions.move_to_element_with_offset(div_element, 400, 100).click().perform()\n",
    "    \n",
    "actions = ActionChains(driver)\n",
    "\n",
    "\n",
    "\n",
    "\n",
    "sleep(3)\n",
    "\n",
    "js_code = \"\"\"\n",
    "return {\n",
    "    href: window.location.href, \n",
    "    CAM: CAM.nodes.length,\n",
    "};\n",
    "\"\"\"\n",
    "\n",
    "# Execute the JavaScript and store the result\n",
    "result = driver.execute_script(js_code)\n",
    "\n",
    "# The result is a Python dictionary that represents the JavaScript object\n",
    "print(result)\n",
    "\n",
    "print(result['CAM'])"
   ]
  }
 ],
 "metadata": {
  "interpreter": {
   "hash": "81794d4967e6c3204c66dcd87b604927b115b27c00565d3d43f05ba2f3a2cb0d"
  },
  "kernelspec": {
   "display_name": "Python 3.9.5 64-bit",
   "language": "python",
   "name": "python3"
  },
  "language_info": {
   "codemirror_mode": {
    "name": "ipython",
    "version": 3
   },
   "file_extension": ".py",
   "mimetype": "text/x-python",
   "name": "python",
   "nbconvert_exporter": "python",
   "pygments_lexer": "ipython3",
   "version": "3.9.5"
  }
 },
 "nbformat": 4,
 "nbformat_minor": 4
}
